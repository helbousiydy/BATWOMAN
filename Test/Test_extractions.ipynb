{
 "cells": [
  {
   "cell_type": "markdown",
   "metadata": {},
   "source": [
    "# KeyWordsExtractions:\n",
    "\n",
    "### Created by Hassna El-Bousiydy, Teo Lombardo, Emiliano Primo, Marc Duquesnoy\n",
    "\n",
    "##### Last updated Thursday, 05 May 2020 (AMIENS, France)."
   ]
  },
  {
   "cell_type": "markdown",
   "metadata": {},
   "source": [
    "In this notebook, we will discuss about aims of the code. The possibility to export PDF (and/or XML) into TXT, and also to filter articles from different types of batteries and analyse informations inside by checking keywords. Reviews, also article which do not talk about Sodium-ions, Lithium-ions batteries, separators are not analysed.\n",
    "We will take an example of ten random PDF, you can consider analyse XML is exactly the same. Due to right restrictions, these articles will not be available in the current folder. As a consequence, we decided to name them \"Article_i\" in order to avoid confusions. Please note that all of them are listed in \"Articles_to_test.txt\" if you want to check them. Article are chosen from them listed in Supporting Informations."
   ]
  },
  {
   "cell_type": "markdown",
   "metadata": {},
   "source": [
    " "
   ]
  },
  {
   "cell_type": "markdown",
   "metadata": {},
   "source": [
    " "
   ]
  },
  {
   "cell_type": "markdown",
   "metadata": {},
   "source": [
    " "
   ]
  },
  {
   "cell_type": "markdown",
   "metadata": {},
   "source": [
    " "
   ]
  },
  {
   "cell_type": "markdown",
   "metadata": {},
   "source": [
    " "
   ]
  },
  {
   "cell_type": "markdown",
   "metadata": {},
   "source": [
    " "
   ]
  },
  {
   "cell_type": "markdown",
   "metadata": {},
   "source": [
    " "
   ]
  },
  {
   "cell_type": "markdown",
   "metadata": {},
   "source": [
    " "
   ]
  },
  {
   "cell_type": "markdown",
   "metadata": {},
   "source": [
    " "
   ]
  },
  {
   "cell_type": "markdown",
   "metadata": {},
   "source": [
    "##### We importe the package by rename it "
   ]
  },
  {
   "cell_type": "code",
   "execution_count": 11,
   "metadata": {},
   "outputs": [],
   "source": [
    "import KeyWordsExtractions as kwe"
   ]
  },
  {
   "cell_type": "markdown",
   "metadata": {},
   "source": [
    " "
   ]
  },
  {
   "cell_type": "markdown",
   "metadata": {},
   "source": [
    " "
   ]
  },
  {
   "cell_type": "markdown",
   "metadata": {},
   "source": [
    "##### Let's check the last version"
   ]
  },
  {
   "cell_type": "code",
   "execution_count": 12,
   "metadata": {},
   "outputs": [
    {
     "data": {
      "text/plain": [
       "'0.0.7'"
      ]
     },
     "execution_count": 12,
     "metadata": {},
     "output_type": "execute_result"
    }
   ],
   "source": [
    "kwe.__version__"
   ]
  },
  {
   "cell_type": "markdown",
   "metadata": {},
   "source": [
    " "
   ]
  },
  {
   "cell_type": "markdown",
   "metadata": {},
   "source": [
    " "
   ]
  },
  {
   "cell_type": "markdown",
   "metadata": {},
   "source": [
    "##### For the test, we consider the current folder as the root of the PDF's folder and the TXT's folder."
   ]
  },
  {
   "cell_type": "code",
   "execution_count": 9,
   "metadata": {},
   "outputs": [],
   "source": [
    "path_to_pdf_folder = './PDF'\n",
    "path_to_txt_folder = './TXT'"
   ]
  },
  {
   "cell_type": "markdown",
   "metadata": {},
   "source": [
    " \n"
   ]
  },
  {
   "cell_type": "markdown",
   "metadata": {},
   "source": [
    "Next, all PDF are extracted. You may see the process article by article :"
   ]
  },
  {
   "cell_type": "code",
   "execution_count": 15,
   "metadata": {},
   "outputs": [
    {
     "name": "stdout",
     "output_type": "stream",
     "text": [
      "Article  Article 1  is successfully converted\n",
      "Article  Article 5  is successfully converted\n",
      "Article  Article 7  is successfully converted\n",
      "Article  Article 8  is successfully converted\n",
      "Article  Article 10  is successfully converted\n",
      "Article  Article 4  is successfully converted\n",
      "Article  Article 3  is successfully converted\n",
      "Article  Article 9  is successfully converted\n",
      "Article  Article 6  is successfully converted\n",
      "Article  Article 2  is successfully converted\n"
     ]
    }
   ],
   "source": [
    "kwe.Converting_From_PDF_OR_XML_To_TXT(path_to_pdf_folder, path_to_txt_folder)"
   ]
  },
  {
   "cell_type": "markdown",
   "metadata": {},
   "source": [
    "Finally, all TXT files are filtred, and informations inside are analysed."
   ]
  },
  {
   "cell_type": "code",
   "execution_count": 16,
   "metadata": {
    "scrolled": false
   },
   "outputs": [
    {
     "name": "stdout",
     "output_type": "stream",
     "text": [
      "There is no (Introduction)!!!\n",
      "Not Lithium Not Sodium =  [0, 0]\n",
      "Not Lithium Not Sodium =  [0, 0]\n",
      "Not Lithium Not Sodium =  [0, 0]\n",
      "There is no (Introduction)!!!\n",
      "Not Lithium Not Sodium =  [0, 0]\n",
      "Not Lithium Not Sodium =  [0, 0]\n",
      "Filtred function is done\n",
      "./TXT/Lithium Ion Battery/Article 5.txt\n",
      "Article  1 : First filter with \"Electrode composition\"\n",
      "./TXT/Lithium Ion Battery/Article 4.txt\n",
      "Article  2 : First filter with \"Electrode composition\"\n",
      "./TXT/Lithium Ion Battery/Article 3.txt\n",
      "Article  3 : First filter with \"Electrode composition\"\n",
      "./TXT/Lithium Ion Battery/Article 7.txt\n",
      "Article  4 : First filter with \"Electrode composition\"\n",
      "\"Electrode composition\" filter is finished\n",
      "./TXT/Lithium Ion Battery/Electrode composition/Electrode composition_Yes/Article 4.txt\n",
      "Article  1 : \n",
      "./TXT/Lithium Ion Battery/Electrode composition/Electrode composition_Yes/Article 3.txt\n",
      "Article  2 : \n",
      "./TXT/Lithium Ion Battery/Electrode composition/Electrode composition_Yes/Article 7.txt\n",
      "Article  3 : \n",
      "./TXT/Sodium Ion Battery/Article 1.txt\n",
      "Article  1 : First filter with \"Electrode composition\"\n",
      "\"Electrode composition\" filter is finished\n",
      "./TXT/Sodium Ion Battery/Electrode composition/Electrode composition_Yes/Article 1.txt\n",
      "Article  1 : \n"
     ]
    }
   ],
   "source": [
    "kwe.Filtring_And_Checking_Keywords(path_to_txt_folder)"
   ]
  },
  {
   "cell_type": "code",
   "execution_count": null,
   "metadata": {},
   "outputs": [],
   "source": [
    "kwe.Current_Density."
   ]
  }
 ],
 "metadata": {
  "kernelspec": {
   "display_name": "Python 3",
   "language": "python",
   "name": "python3"
  },
  "language_info": {
   "codemirror_mode": {
    "name": "ipython",
    "version": 3
   },
   "file_extension": ".py",
   "mimetype": "text/x-python",
   "name": "python",
   "nbconvert_exporter": "python",
   "pygments_lexer": "ipython3",
   "version": "3.7.4"
  }
 },
 "nbformat": 4,
 "nbformat_minor": 2
}
